{
 "cells": [
  {
   "cell_type": "code",
   "execution_count": null,
   "metadata": {},
   "outputs": [],
   "source": [
    "# !pip install tensorflow==2.3.0\n",
    "# !pip install gym\n",
    "# !pip install keras\n",
    "# !pip install keras-rl2"
   ]
  },
  {
   "cell_type": "code",
   "execution_count": 2,
   "metadata": {},
   "outputs": [],
   "source": [
    "import gym\n",
    "import random\n"
   ]
  },
  {
   "cell_type": "code",
   "execution_count": 3,
   "metadata": {},
   "outputs": [],
   "source": [
    "env = gym.make('CartPole-v0')\n",
    "states = env.observation_space.shape[0]\n",
    "actions = env.action_space.n"
   ]
  },
  {
   "cell_type": "code",
   "execution_count": 4,
   "metadata": {},
   "outputs": [
    {
     "data": {
      "text/plain": [
       "2"
      ]
     },
     "execution_count": 4,
     "metadata": {},
     "output_type": "execute_result"
    }
   ],
   "source": [
    "actions"
   ]
  },
  {
   "cell_type": "code",
   "execution_count": 5,
   "metadata": {},
   "outputs": [
    {
     "name": "stdout",
     "output_type": "stream",
     "text": [
      "Episode1 Score:17.0\n",
      "Episode2 Score:16.0\n",
      "Episode3 Score:10.0\n",
      "Episode4 Score:17.0\n",
      "Episode5 Score:11.0\n",
      "Episode6 Score:30.0\n",
      "Episode7 Score:17.0\n",
      "Episode8 Score:15.0\n",
      "Episode9 Score:33.0\n",
      "Episode10 Score:29.0\n"
     ]
    }
   ],
   "source": [
    "episodes = 10\n",
    "for episode in range(1, episodes+1):\n",
    "    state = env.reset()\n",
    "    done = False\n",
    "    score = 0\n",
    "    \n",
    "    while not done:\n",
    "        env.render()\n",
    "        action = random.choice([0,1])\n",
    "        n_state, reward, done, info = env.step(action)\n",
    "        score+=reward\n",
    "    print('Episode{} Score:{}'.format(episode, score))"
   ]
  },
  {
   "cell_type": "markdown",
   "metadata": {},
   "source": [
    "## Deep learning model"
   ]
  },
  {
   "cell_type": "code",
   "execution_count": 6,
   "metadata": {},
   "outputs": [],
   "source": [
    "import numpy as np\n",
    "from tensorflow.keras.models import Sequential\n",
    "from tensorflow.keras.layers import Dense, Flatten\n",
    "from tensorflow.keras.optimizers import Adam"
   ]
  },
  {
   "cell_type": "code",
   "execution_count": 7,
   "metadata": {},
   "outputs": [],
   "source": [
    "def build_model(states, actions):\n",
    "    model = Sequential()\n",
    "    model.add(Flatten(input_shape=(1,states)))\n",
    "    model.add(Dense(24, activation='relu'))\n",
    "    model.add(Dense(24, activation='relu'))\n",
    "    model.add(Dense(actions, activation='linear'))\n",
    "    return model"
   ]
  },
  {
   "cell_type": "code",
   "execution_count": 14,
   "metadata": {},
   "outputs": [],
   "source": [
    "del model"
   ]
  },
  {
   "cell_type": "code",
   "execution_count": 15,
   "metadata": {},
   "outputs": [
    {
     "name": "stdout",
     "output_type": "stream",
     "text": [
      "Model: \"sequential_1\"\n",
      "_________________________________________________________________\n",
      "Layer (type)                 Output Shape              Param #   \n",
      "=================================================================\n",
      "flatten_1 (Flatten)          (None, 4)                 0         \n",
      "_________________________________________________________________\n",
      "dense_3 (Dense)              (None, 24)                120       \n",
      "_________________________________________________________________\n",
      "dense_4 (Dense)              (None, 24)                600       \n",
      "_________________________________________________________________\n",
      "dense_5 (Dense)              (None, 2)                 50        \n",
      "=================================================================\n",
      "Total params: 770\n",
      "Trainable params: 770\n",
      "Non-trainable params: 0\n",
      "_________________________________________________________________\n"
     ]
    }
   ],
   "source": [
    "model = build_model(states, actions)\n",
    "model.summary()"
   ]
  },
  {
   "cell_type": "markdown",
   "metadata": {},
   "source": [
    "## Train Model"
   ]
  },
  {
   "cell_type": "code",
   "execution_count": 16,
   "metadata": {},
   "outputs": [],
   "source": [
    "from rl.agents import DQNAgent\n",
    "from rl.policy import BoltzmannQPolicy #Policy based RL\n",
    "from rl.memory import SequentialMemory"
   ]
  },
  {
   "cell_type": "code",
   "execution_count": 17,
   "metadata": {},
   "outputs": [],
   "source": [
    "def build_agent(model, actions):\n",
    "    policy = BoltzmannQPolicy()\n",
    "    memory = SequentialMemory(limit=50000, window_length=1)\n",
    "    dqn = DQNAgent(model=model, memory=memory, policy=policy,\n",
    "                   nb_actions=actions, nb_steps_warmup=100, target_model_update=1e-2)\n",
    "    return dqn\n"
   ]
  },
  {
   "cell_type": "code",
   "execution_count": 18,
   "metadata": {},
   "outputs": [
    {
     "name": "stdout",
     "output_type": "stream",
     "text": [
      "Training for 50000 steps ...\n",
      "Interval 1 (0 steps performed)\n",
      "WARNING:tensorflow:From /Users/vishankrughwani/Applications/anaconda3/lib/python3.8/site-packages/tensorflow/python/keras/engine/training_v1.py:2070: Model.state_updates (from tensorflow.python.keras.engine.training) is deprecated and will be removed in a future version.\n",
      "Instructions for updating:\n",
      "This property should not be used in TensorFlow 2.0, as updates are applied automatically.\n",
      "10000/10000 [==============================] - 37s 4ms/step - reward: 1.0000\n",
      "112 episodes - episode_reward: 87.830 [10.000, 200.000] - loss: 2.650 - mae: 18.118 - mean_q: 36.669\n",
      "\n",
      "Interval 2 (10000 steps performed)\n",
      "10000/10000 [==============================] - 42s 4ms/step - reward: 1.0000\n",
      "54 episodes - episode_reward: 186.259 [157.000, 200.000] - loss: 4.063 - mae: 36.665 - mean_q: 73.921\n",
      "\n",
      "Interval 3 (20000 steps performed)\n",
      "10000/10000 [==============================] - 74s 7ms/step - reward: 1.0000\n",
      "53 episodes - episode_reward: 188.774 [159.000, 200.000] - loss: 2.885 - mae: 38.235 - mean_q: 77.001\n",
      "\n",
      "Interval 4 (30000 steps performed)\n",
      "10000/10000 [==============================] - 51s 5ms/step - reward: 1.0000\n",
      "52 episodes - episode_reward: 190.769 [147.000, 200.000] - loss: 2.979 - mae: 36.191 - mean_q: 72.672\n",
      "\n",
      "Interval 5 (40000 steps performed)\n",
      "10000/10000 [==============================] - 44s 4ms/step - reward: 1.0000\n",
      "done, took 248.138 seconds\n"
     ]
    },
    {
     "data": {
      "text/plain": [
       "<tensorflow.python.keras.callbacks.History at 0x7fd7a702d340>"
      ]
     },
     "execution_count": 18,
     "metadata": {},
     "output_type": "execute_result"
    }
   ],
   "source": [
    "dqn = build_agent(model, actions)\n",
    "dqn.compile(Adam(lr=1e-3), metrics=['mae'])#mean absolute error\n",
    "dqn.fit(env, nb_steps=50000, visualize=False, verbose=1)"
   ]
  },
  {
   "cell_type": "code",
   "execution_count": 19,
   "metadata": {},
   "outputs": [
    {
     "name": "stdout",
     "output_type": "stream",
     "text": [
      "Testing for 100 episodes ...\n",
      "Episode 1: reward: 155.000, steps: 155\n",
      "Episode 2: reward: 150.000, steps: 150\n",
      "Episode 3: reward: 157.000, steps: 157\n",
      "Episode 4: reward: 155.000, steps: 155\n",
      "Episode 5: reward: 154.000, steps: 154\n",
      "Episode 6: reward: 164.000, steps: 164\n",
      "Episode 7: reward: 144.000, steps: 144\n",
      "Episode 8: reward: 151.000, steps: 151\n",
      "Episode 9: reward: 145.000, steps: 145\n",
      "Episode 10: reward: 135.000, steps: 135\n",
      "Episode 11: reward: 142.000, steps: 142\n",
      "Episode 12: reward: 151.000, steps: 151\n",
      "Episode 13: reward: 141.000, steps: 141\n",
      "Episode 14: reward: 147.000, steps: 147\n",
      "Episode 15: reward: 154.000, steps: 154\n",
      "Episode 16: reward: 138.000, steps: 138\n",
      "Episode 17: reward: 151.000, steps: 151\n",
      "Episode 18: reward: 164.000, steps: 164\n",
      "Episode 19: reward: 144.000, steps: 144\n",
      "Episode 20: reward: 146.000, steps: 146\n",
      "Episode 21: reward: 152.000, steps: 152\n",
      "Episode 22: reward: 144.000, steps: 144\n",
      "Episode 23: reward: 148.000, steps: 148\n",
      "Episode 24: reward: 150.000, steps: 150\n",
      "Episode 25: reward: 141.000, steps: 141\n",
      "Episode 26: reward: 146.000, steps: 146\n",
      "Episode 27: reward: 150.000, steps: 150\n",
      "Episode 28: reward: 153.000, steps: 153\n",
      "Episode 29: reward: 160.000, steps: 160\n",
      "Episode 30: reward: 140.000, steps: 140\n",
      "Episode 31: reward: 139.000, steps: 139\n",
      "Episode 32: reward: 139.000, steps: 139\n",
      "Episode 33: reward: 184.000, steps: 184\n",
      "Episode 34: reward: 148.000, steps: 148\n",
      "Episode 35: reward: 165.000, steps: 165\n",
      "Episode 36: reward: 143.000, steps: 143\n",
      "Episode 37: reward: 162.000, steps: 162\n",
      "Episode 38: reward: 152.000, steps: 152\n",
      "Episode 39: reward: 153.000, steps: 153\n",
      "Episode 40: reward: 138.000, steps: 138\n",
      "Episode 41: reward: 141.000, steps: 141\n",
      "Episode 42: reward: 144.000, steps: 144\n",
      "Episode 43: reward: 139.000, steps: 139\n",
      "Episode 44: reward: 147.000, steps: 147\n",
      "Episode 45: reward: 156.000, steps: 156\n",
      "Episode 46: reward: 148.000, steps: 148\n",
      "Episode 47: reward: 162.000, steps: 162\n",
      "Episode 48: reward: 144.000, steps: 144\n",
      "Episode 49: reward: 149.000, steps: 149\n",
      "Episode 50: reward: 156.000, steps: 156\n",
      "Episode 51: reward: 143.000, steps: 143\n",
      "Episode 52: reward: 137.000, steps: 137\n",
      "Episode 53: reward: 137.000, steps: 137\n",
      "Episode 54: reward: 137.000, steps: 137\n",
      "Episode 55: reward: 143.000, steps: 143\n",
      "Episode 56: reward: 148.000, steps: 148\n",
      "Episode 57: reward: 155.000, steps: 155\n",
      "Episode 58: reward: 168.000, steps: 168\n",
      "Episode 59: reward: 165.000, steps: 165\n",
      "Episode 60: reward: 151.000, steps: 151\n",
      "Episode 61: reward: 140.000, steps: 140\n",
      "Episode 62: reward: 150.000, steps: 150\n",
      "Episode 63: reward: 166.000, steps: 166\n",
      "Episode 64: reward: 148.000, steps: 148\n",
      "Episode 65: reward: 152.000, steps: 152\n",
      "Episode 66: reward: 155.000, steps: 155\n",
      "Episode 67: reward: 148.000, steps: 148\n",
      "Episode 68: reward: 164.000, steps: 164\n",
      "Episode 69: reward: 153.000, steps: 153\n",
      "Episode 70: reward: 174.000, steps: 174\n",
      "Episode 71: reward: 163.000, steps: 163\n",
      "Episode 72: reward: 143.000, steps: 143\n",
      "Episode 73: reward: 138.000, steps: 138\n",
      "Episode 74: reward: 164.000, steps: 164\n",
      "Episode 75: reward: 148.000, steps: 148\n",
      "Episode 76: reward: 147.000, steps: 147\n",
      "Episode 77: reward: 137.000, steps: 137\n",
      "Episode 78: reward: 145.000, steps: 145\n",
      "Episode 79: reward: 142.000, steps: 142\n",
      "Episode 80: reward: 158.000, steps: 158\n",
      "Episode 81: reward: 138.000, steps: 138\n",
      "Episode 82: reward: 149.000, steps: 149\n",
      "Episode 83: reward: 165.000, steps: 165\n",
      "Episode 84: reward: 151.000, steps: 151\n",
      "Episode 85: reward: 147.000, steps: 147\n",
      "Episode 86: reward: 170.000, steps: 170\n",
      "Episode 87: reward: 145.000, steps: 145\n",
      "Episode 88: reward: 163.000, steps: 163\n",
      "Episode 89: reward: 152.000, steps: 152\n",
      "Episode 90: reward: 156.000, steps: 156\n",
      "Episode 91: reward: 140.000, steps: 140\n",
      "Episode 92: reward: 136.000, steps: 136\n",
      "Episode 93: reward: 168.000, steps: 168\n",
      "Episode 94: reward: 151.000, steps: 151\n",
      "Episode 95: reward: 145.000, steps: 145\n",
      "Episode 96: reward: 158.000, steps: 158\n",
      "Episode 97: reward: 140.000, steps: 140\n",
      "Episode 98: reward: 146.000, steps: 146\n",
      "Episode 99: reward: 164.000, steps: 164\n",
      "Episode 100: reward: 142.000, steps: 142\n",
      "150.26\n"
     ]
    }
   ],
   "source": [
    "scores = dqn.test(env, nb_episodes=100, visualize=False)\n",
    "print(np.mean(scores.history['episode_reward']))"
   ]
  },
  {
   "cell_type": "code",
   "execution_count": 20,
   "metadata": {},
   "outputs": [
    {
     "name": "stdout",
     "output_type": "stream",
     "text": [
      "Testing for 15 episodes ...\n",
      "Episode 1: reward: 158.000, steps: 158\n",
      "Episode 2: reward: 149.000, steps: 149\n",
      "Episode 3: reward: 148.000, steps: 148\n",
      "Episode 4: reward: 150.000, steps: 150\n",
      "Episode 5: reward: 160.000, steps: 160\n",
      "Episode 6: reward: 153.000, steps: 153\n",
      "Episode 7: reward: 165.000, steps: 165\n",
      "Episode 8: reward: 143.000, steps: 143\n",
      "Episode 9: reward: 158.000, steps: 158\n",
      "Episode 10: reward: 153.000, steps: 153\n",
      "Episode 11: reward: 143.000, steps: 143\n",
      "Episode 12: reward: 148.000, steps: 148\n",
      "Episode 13: reward: 152.000, steps: 152\n",
      "Episode 14: reward: 154.000, steps: 154\n",
      "Episode 15: reward: 137.000, steps: 137\n"
     ]
    }
   ],
   "source": [
    "_ = dqn.test(env, nb_episodes=15, visualize=True)"
   ]
  },
  {
   "cell_type": "markdown",
   "metadata": {},
   "source": [
    "## Save"
   ]
  },
  {
   "cell_type": "code",
   "execution_count": 21,
   "metadata": {},
   "outputs": [],
   "source": [
    "dqn.save_weights('dqn_weights.h5f', overwrite=True)"
   ]
  },
  {
   "cell_type": "code",
   "execution_count": 22,
   "metadata": {},
   "outputs": [],
   "source": [
    "del model\n",
    "del dqn\n",
    "del env"
   ]
  },
  {
   "cell_type": "code",
   "execution_count": 25,
   "metadata": {},
   "outputs": [],
   "source": [
    "env = gym.make('CartPole-v0')\n",
    "actions = env.action_space.n\n",
    "states = env.observation_space.shape[0]\n",
    "model = build_model(states, actions)\n",
    "dqn = build_agent(model, actions)\n",
    "dqn.compile(Adam(lr=1e-3), metrics=['mae'])"
   ]
  },
  {
   "cell_type": "code",
   "execution_count": 26,
   "metadata": {},
   "outputs": [],
   "source": [
    "dqn.load_weights('dqn_weights.h5f')"
   ]
  },
  {
   "cell_type": "code",
   "execution_count": 28,
   "metadata": {},
   "outputs": [
    {
     "name": "stdout",
     "output_type": "stream",
     "text": [
      "Testing for 5 episodes ...\n",
      "Episode 1: reward: 138.000, steps: 138\n",
      "Episode 2: reward: 150.000, steps: 150\n",
      "Episode 3: reward: 141.000, steps: 141\n",
      "Episode 4: reward: 159.000, steps: 159\n",
      "Episode 5: reward: 158.000, steps: 158\n"
     ]
    },
    {
     "data": {
      "text/plain": [
       "<tensorflow.python.keras.callbacks.History at 0x7fd7a8098d60>"
      ]
     },
     "execution_count": 28,
     "metadata": {},
     "output_type": "execute_result"
    }
   ],
   "source": [
    "dqn.test(env, nb_episodes=5, visualize=True)"
   ]
  },
  {
   "cell_type": "code",
   "execution_count": null,
   "metadata": {},
   "outputs": [],
   "source": []
  }
 ],
 "metadata": {
  "kernelspec": {
   "display_name": "Python 3",
   "language": "python",
   "name": "python3"
  },
  "language_info": {
   "codemirror_mode": {
    "name": "ipython",
    "version": 3
   },
   "file_extension": ".py",
   "mimetype": "text/x-python",
   "name": "python",
   "nbconvert_exporter": "python",
   "pygments_lexer": "ipython3",
   "version": "3.8.5"
  }
 },
 "nbformat": 4,
 "nbformat_minor": 4
}
